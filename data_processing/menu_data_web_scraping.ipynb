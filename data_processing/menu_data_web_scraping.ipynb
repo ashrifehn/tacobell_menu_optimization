{
 "cells": [
  {
   "cell_type": "code",
   "execution_count": 8,
   "metadata": {},
   "outputs": [
    {
     "name": "stdout",
     "output_type": "stream",
     "text": [
      "2024-08-27\n"
     ]
    }
   ],
   "source": [
    "print(today)"
   ]
  },
  {
   "cell_type": "markdown",
   "metadata": {},
   "source": [
    "# Initialization of Functions"
   ]
  },
  {
   "cell_type": "code",
   "execution_count": 9,
   "metadata": {},
   "outputs": [],
   "source": [
    "# Function that parses through the nutritonal data, and returns a dictionary \n",
    "\n",
    "def nutrition_info_parsing(text):\n",
    "    nutrition_lines = [line.strip() for line in text.split(\"\\n\") if line.strip()]\n",
    "\n",
    "    nutrient_dict = {}\n",
    "\n",
    "    i = 0\n",
    "    while i < len(nutrition_lines):\n",
    "        line = nutrition_lines[i]\n",
    "\n",
    "        if line == 'Calories':\n",
    "            nutrient_dict['Calories'] = float(nutrition_lines[i+1])\n",
    "            i += 2  # Increment by 2 to jump to the next component\n",
    "\n",
    "        elif any(word in line for word in ['Fat' ,'Cholesterol','Includes', 'Sugars', 'Sodium', 'Carbohydrates', 'Fiber', 'Protein', 'Vitamin D', 'Calcium', 'Iron', 'Potassium']):\n",
    "            nutrient = line.split()\n",
    "            \n",
    "            # Check if the next line contains a value (like '8g', '25mg', etc.)\n",
    "            if i+1 < len(nutrition_lines) and any(val in nutrition_lines[i+1] for val in ['g', 'mg', 'mcg']):\n",
    "\n",
    "                # Use the nutrient as key and the next line as value\n",
    "                nutrient_name = ' '.join(nutrient[:-1])  # Exclude the value (like '8g') from the nutrient name\n",
    "                unit = ''.join([char for char in nutrient[-1] if not char.isdigit() and char != '.'])\n",
    "                nutrient_key = f\"{nutrient_name} ({unit})\"\n",
    "                nutrient_value = float(''.join([char for char in nutrient[-1] if char.isdigit() or char == '.']))\n",
    "\n",
    "                if '<' in nutrient_name:\n",
    "                    nutrient_name = nutrient_name.replace('<', '').strip()\n",
    "                    nutrient_key = f\"{nutrient_name} ({unit})\"\n",
    "\n",
    "                nutrient_dict[nutrient_key] = nutrient_value\n",
    "                \n",
    "                i += 2  # Increment by 2 to jump to the next component\n",
    "\n",
    "            else:\n",
    "                i += 1  # No expected value on the next line, move on\n",
    "\n",
    "        else:\n",
    "            i += 1\n",
    "\n",
    "\n",
    "    return nutrient_dict\n",
    "\n"
   ]
  },
  {
   "cell_type": "markdown",
   "metadata": {},
   "source": [
    "## The next series of function uses Selenium to automate the webscraping processes \n",
    "\n"
   ]
  },
  {
   "cell_type": "code",
   "execution_count": 10,
   "metadata": {},
   "outputs": [],
   "source": [
    "\n",
    "def get_menu_section_links(driver, base_url=\"https://www.tacobell.com\", menu_endpoint=\"/food\", store_location = \"?store=038911#\"):\n",
    "    driver.get(base_url+menu_endpoint)\n",
    "\n",
    "\n",
    "    cites_allowed_WS = [\n",
    "    \"/food/tacos\",\n",
    "    \"/food/burritos\",\n",
    "    \"/food/quesadillas\",\n",
    "    \"/food/nachos\",\n",
    "    \"/food/sides-sweets\",\n",
    "    \"/food/drinks\",\n",
    "    \"/food/power-menu\",\n",
    "    \"/food/vegetarian\",\n",
    "    \"/food/breakfast\",\n",
    "    \"/food/specialties\"\n",
    "    ]\n",
    "\n",
    "\n",
    "\n",
    "    # Look into https://www.tacobell.com/sitemap.xml a little bit more.\n",
    "\n",
    "    # sleep(3)  # Wait 5 seconds before searching for the element\n",
    "\n",
    "    # Using XPath to locate the main parent div that contains all the links\n",
    "    element = driver.find_element(By.XPATH, '//div[contains(@class, \"styles_menu-grid__9lRvR\")]')\n",
    "\n",
    "\n",
    "    # Parse the content using BeautifulSoup\n",
    "    soup = BeautifulSoup(element.get_attribute('outerHTML'), 'html.parser')\n",
    "\n",
    "    # Extract all the links and their href values\n",
    "    links = [a['href'] for a in soup.find_all('a') if a.has_attr('href')]\n",
    "\n",
    "    allowed_links = [link for link in links if link.split(\"?\")[0] in cites_allowed_WS]\n",
    "    \n",
    "    section_links = [base_url + link + store_location for link in allowed_links]\n",
    "\n",
    "\n",
    "    return section_links\n",
    "\n"
   ]
  },
  {
   "cell_type": "code",
   "execution_count": 11,
   "metadata": {},
   "outputs": [],
   "source": [
    "\n",
    "def pulling_data(driver, store_location=\"?store=038911#\", base_url=\"https://www.tacobell.com\"):\n",
    "    menu_section_links = get_menu_section_links(driver)\n",
    "\n",
    "    menu_data = []\n",
    "    for f in menu_section_links:\n",
    "        driver.get(f)\n",
    "        soup = BeautifulSoup(driver.page_source, 'html.parser')\n",
    "        \n",
    "        heading = soup.find('h1')\n",
    "        \n",
    "        links = [a['href'] for a in soup.find_all('a', class_='styles_product-title__6KCyw')]\n",
    "        \n",
    "        full_links = [base_url + link + store_location+\"#\" if not link.endswith('1') else base_url+link+\"#\" for link in links]\n",
    "\n",
    "        for item in full_links:\n",
    "            driver.get(item)\n",
    "\n",
    "            subpage_soup = BeautifulSoup(driver.page_source, 'html.parser')\n",
    "            header = subpage_soup.find_all('h1')\n",
    "            item_name = [i.text for i in header if len(i.text) !=0]\n",
    "\n",
    "            price = subpage_soup.find('span', class_='styles_price__3-xtw')\n",
    "            # print(f\"Menu Section: {heading.text}, Item name: {item_name[0]}, Price: {price.text}\")\n",
    "\n",
    "\n",
    "            try:\n",
    "                # Check if the \"Nutrition Info\" link exists on the webpage\n",
    "                nutrition_link = driver.find_element(By.LINK_TEXT, \"Nutrition Info\")\n",
    "                nutrition_link.click()\n",
    "                sleep(2)\n",
    "                \n",
    "                driver.switch_to.frame(driver.find_element(By.XPATH, '//iframe[contains(@src, \"nutritionix.com/label/popup/item/\")]'))\n",
    "\n",
    "                \n",
    "                # Grabbing nutri info\n",
    "                nutrition_info = driver.find_element(By.CLASS_NAME, 'nf')\n",
    "                nutrition_info_txt = nutrition_info.text\n",
    "\n",
    "                # print(f\"Nutrition info for {item_name[0]} grabbed\")\n",
    "\n",
    "\n",
    "\n",
    "\n",
    "\n",
    "                # Grabbing allergen info; still need to find a way to clean this text\n",
    "                # allergen_info = driver.find_element(By.CLASS_NAME, \"allergenInfo\")\n",
    "                # allergen_info_text = allergen_info.text\n",
    "\n",
    "            \n",
    "\n",
    "                # Append the data to the taco_data list\n",
    "                menu_data.append({\n",
    "                    'item_name': item_name[0],\n",
    "                    'price': float(price.text[1:]),\n",
    "                    'menu_section': heading.text,\n",
    "                    **nutrition_info_parsing(nutrition_info_txt)\n",
    "                })\n",
    "\n",
    "                print(f\"All of the {item_name[0]} data added to the master dataset\")\n",
    "\n",
    "\n",
    "\n",
    "                \n",
    "            except NoSuchElementException:  # Element not found\n",
    "                continue  # Go to the next item in the loop\n",
    "\n",
    "        print(f\"\\nThe {heading.text} section has been sucessfully pulled\")\n",
    "\n",
    "\n",
    "    print(\"\\nAll individual items from Taco Bell's menu have been acquired\")\n",
    "\n",
    "\n",
    "    return menu_data"
   ]
  },
  {
   "cell_type": "code",
   "execution_count": 13,
   "metadata": {},
   "outputs": [
    {
     "name": "stdout",
     "output_type": "stream",
     "text": [
      "All of the Double Stacked Taco data added to the master dataset\n"
     ]
    },
    {
     "ename": "KeyboardInterrupt",
     "evalue": "",
     "output_type": "error",
     "traceback": [
      "\u001b[0;31m---------------------------------------------------------------------------\u001b[0m",
      "\u001b[0;31mKeyboardInterrupt\u001b[0m                         Traceback (most recent call last)",
      "Cell \u001b[0;32mIn[13], line 2\u001b[0m\n\u001b[1;32m      1\u001b[0m driver \u001b[39m=\u001b[39m webdriver\u001b[39m.\u001b[39mChrome()\n\u001b[0;32m----> 2\u001b[0m menu_data \u001b[39m=\u001b[39m pulling_data(driver)\n\u001b[1;32m      3\u001b[0m driver\u001b[39m.\u001b[39mquit()\n",
      "Cell \u001b[0;32mIn[11], line 30\u001b[0m, in \u001b[0;36mpulling_data\u001b[0;34m(driver, store_location, base_url)\u001b[0m\n\u001b[1;32m     28\u001b[0m nutrition_link \u001b[39m=\u001b[39m driver\u001b[39m.\u001b[39mfind_element(By\u001b[39m.\u001b[39mLINK_TEXT, \u001b[39m\"\u001b[39m\u001b[39mNutrition Info\u001b[39m\u001b[39m\"\u001b[39m)\n\u001b[1;32m     29\u001b[0m nutrition_link\u001b[39m.\u001b[39mclick()\n\u001b[0;32m---> 30\u001b[0m sleep(\u001b[39m5\u001b[39m)\n\u001b[1;32m     32\u001b[0m driver\u001b[39m.\u001b[39mswitch_to\u001b[39m.\u001b[39mframe(driver\u001b[39m.\u001b[39mfind_element(By\u001b[39m.\u001b[39mXPATH, \u001b[39m'\u001b[39m\u001b[39m//iframe[contains(@src, \u001b[39m\u001b[39m\"\u001b[39m\u001b[39mnutritionix.com/label/popup/item/\u001b[39m\u001b[39m\"\u001b[39m\u001b[39m)]\u001b[39m\u001b[39m'\u001b[39m))\n\u001b[1;32m     35\u001b[0m \u001b[39m# Grabbing nutri info\u001b[39;00m\n",
      "\u001b[0;31mKeyboardInterrupt\u001b[0m: "
     ]
    }
   ],
   "source": [
    "driver = webdriver.Chrome()\n",
    "menu_data = pulling_data(driver)\n",
    "driver.quit()\n"
   ]
  },
  {
   "cell_type": "code",
   "execution_count": 7,
   "metadata": {},
   "outputs": [
    {
     "name": "stdout",
     "output_type": "stream",
     "text": [
      "(0, 0)\n"
     ]
    }
   ],
   "source": [
    "menu_data_df = pd.DataFrame(menu_data)\n",
    "menu_data_df.info\n",
    "print(menu_data_df.shape)"
   ]
  },
  {
   "cell_type": "code",
   "execution_count": 8,
   "metadata": {},
   "outputs": [
    {
     "data": {
      "text/html": [
       "<div>\n",
       "<style scoped>\n",
       "    .dataframe tbody tr th:only-of-type {\n",
       "        vertical-align: middle;\n",
       "    }\n",
       "\n",
       "    .dataframe tbody tr th {\n",
       "        vertical-align: top;\n",
       "    }\n",
       "\n",
       "    .dataframe thead th {\n",
       "        text-align: right;\n",
       "    }\n",
       "</style>\n",
       "<table border=\"1\" class=\"dataframe\">\n",
       "  <thead>\n",
       "    <tr style=\"text-align: right;\">\n",
       "      <th></th>\n",
       "    </tr>\n",
       "  </thead>\n",
       "  <tbody>\n",
       "  </tbody>\n",
       "</table>\n",
       "</div>"
      ],
      "text/plain": [
       "Empty DataFrame\n",
       "Columns: []\n",
       "Index: []"
      ]
     },
     "execution_count": 8,
     "metadata": {},
     "output_type": "execute_result"
    }
   ],
   "source": [
    "menu_data_df.head()"
   ]
  },
  {
   "cell_type": "code",
   "execution_count": 9,
   "metadata": {},
   "outputs": [],
   "source": [
    "menu_data_df.to_csv(f\"../data/uncleaned_taco_bell_menu_items_{today}.csv\")"
   ]
  },
  {
   "cell_type": "markdown",
   "metadata": {},
   "source": [
    "### Data Cleaning"
   ]
  },
  {
   "cell_type": "code",
   "execution_count": 10,
   "metadata": {},
   "outputs": [],
   "source": [
    "def clean_taco_bell_menu(input_csv_path, output_csv_path=None):\n",
    "    # Step 1: Set options\n",
    "    pd.set_option('display.max_columns', None)\n",
    "    pd.set_option('display.max_rows', None)\n",
    "    \n",
    "    # Step 2: Read the data\n",
    "    menu_data_df = pd.read_csv(input_csv_path, index_col=0)\n",
    "    \n",
    "    # Step 3: Fill missing values and adjust columns\n",
    "    menu_data_df.fillna(0, inplace=True)\n",
    "    menu_data_df['Total Sugars (g)'] = menu_data_df['Sugars (g)'] + menu_data_df['Includes (g)']\n",
    "    menu_data_df.drop(columns=['Sugars (g)', 'Includes (g)'], inplace=True)\n",
    "    \n",
    "    # Step 4: Filter rows based on price\n",
    "    menu_data_df = menu_data_df[menu_data_df['price'] >= 1.00]\n",
    "    \n",
    "    # Step 5: Drop discontinued or limited-time items\n",
    "    discontinued_items = [\n",
    "        'Steak and Bacon Grilled Cheese Burrito',\n",
    "        'Strawberry Twists',\n",
    "        'Wild Strawberry Creme Delight Freeze',\n",
    "        'Blue Raspberry Freeze',\n",
    "        'Breakfast Taco Sausage',\n",
    "        'Breakfast Taco Bacon',\n",
    "        'Breakfast Taco Potato',\n",
    "        'Double Berry Freeze',\n",
    "        'Bell Breakfast Box'\n",
    "    ]\n",
    "    menu_data_df = menu_data_df[~menu_data_df['item_name'].isin(discontinued_items)]\n",
    "    \n",
    "    # Step 6: Check and remove duplicates\n",
    "    menu_data_df = menu_data_df.drop_duplicates(subset=['item_name'], keep=\"last\")\n",
    "    \n",
    "    # Step 7: Save cleaned data\n",
    "    if output_csv_path is None:\n",
    "        today = date.today()\n",
    "        output_csv_path = f\"../data/cleaned_taco_bell_menu_items_{today}.csv\"\n",
    "    menu_data_df.to_csv(output_csv_path)\n",
    "    \n",
    "    return menu_data_df\n",
    "\n"
   ]
  },
  {
   "cell_type": "code",
   "execution_count": 11,
   "metadata": {},
   "outputs": [
    {
     "ename": "KeyError",
     "evalue": "'Sugars (g)'",
     "output_type": "error",
     "traceback": [
      "\u001b[0;31m---------------------------------------------------------------------------\u001b[0m",
      "\u001b[0;31mKeyError\u001b[0m                                  Traceback (most recent call last)",
      "File \u001b[0;32m~/anaconda3/lib/python3.11/site-packages/pandas/core/indexes/base.py:3805\u001b[0m, in \u001b[0;36mIndex.get_loc\u001b[0;34m(self, key)\u001b[0m\n\u001b[1;32m   3804\u001b[0m \u001b[39mtry\u001b[39;00m:\n\u001b[0;32m-> 3805\u001b[0m     \u001b[39mreturn\u001b[39;00m \u001b[39mself\u001b[39m\u001b[39m.\u001b[39m_engine\u001b[39m.\u001b[39mget_loc(casted_key)\n\u001b[1;32m   3806\u001b[0m \u001b[39mexcept\u001b[39;00m \u001b[39mKeyError\u001b[39;00m \u001b[39mas\u001b[39;00m err:\n",
      "File \u001b[0;32mindex.pyx:167\u001b[0m, in \u001b[0;36mpandas._libs.index.IndexEngine.get_loc\u001b[0;34m()\u001b[0m\n",
      "File \u001b[0;32mindex.pyx:196\u001b[0m, in \u001b[0;36mpandas._libs.index.IndexEngine.get_loc\u001b[0;34m()\u001b[0m\n",
      "File \u001b[0;32mpandas/_libs/hashtable_class_helper.pxi:7081\u001b[0m, in \u001b[0;36mpandas._libs.hashtable.PyObjectHashTable.get_item\u001b[0;34m()\u001b[0m\n",
      "File \u001b[0;32mpandas/_libs/hashtable_class_helper.pxi:7089\u001b[0m, in \u001b[0;36mpandas._libs.hashtable.PyObjectHashTable.get_item\u001b[0;34m()\u001b[0m\n",
      "\u001b[0;31mKeyError\u001b[0m: 'Sugars (g)'",
      "\nThe above exception was the direct cause of the following exception:\n",
      "\u001b[0;31mKeyError\u001b[0m                                  Traceback (most recent call last)",
      "Cell \u001b[0;32mIn[11], line 2\u001b[0m\n\u001b[1;32m      1\u001b[0m \u001b[39m# Example usage:\u001b[39;00m\n\u001b[0;32m----> 2\u001b[0m clean_taco_bell_menu(\u001b[39m\"\u001b[39m\u001b[39m../data/uncleaned_taco_bell_menu_items2024-08-27.csv\u001b[39m\u001b[39m\"\u001b[39m)\n",
      "Cell \u001b[0;32mIn[10], line 11\u001b[0m, in \u001b[0;36mclean_taco_bell_menu\u001b[0;34m(input_csv_path, output_csv_path)\u001b[0m\n\u001b[1;32m      9\u001b[0m \u001b[39m# Step 3: Fill missing values and adjust columns\u001b[39;00m\n\u001b[1;32m     10\u001b[0m menu_data_df\u001b[39m.\u001b[39mfillna(\u001b[39m0\u001b[39m, inplace\u001b[39m=\u001b[39m\u001b[39mTrue\u001b[39;00m)\n\u001b[0;32m---> 11\u001b[0m menu_data_df[\u001b[39m'\u001b[39m\u001b[39mTotal Sugars (g)\u001b[39m\u001b[39m'\u001b[39m] \u001b[39m=\u001b[39m menu_data_df[\u001b[39m'\u001b[39m\u001b[39mSugars (g)\u001b[39m\u001b[39m'\u001b[39m] \u001b[39m+\u001b[39m menu_data_df[\u001b[39m'\u001b[39m\u001b[39mIncludes (g)\u001b[39m\u001b[39m'\u001b[39m]\n\u001b[1;32m     12\u001b[0m menu_data_df\u001b[39m.\u001b[39mdrop(columns\u001b[39m=\u001b[39m[\u001b[39m'\u001b[39m\u001b[39mSugars (g)\u001b[39m\u001b[39m'\u001b[39m, \u001b[39m'\u001b[39m\u001b[39mIncludes (g)\u001b[39m\u001b[39m'\u001b[39m], inplace\u001b[39m=\u001b[39m\u001b[39mTrue\u001b[39;00m)\n\u001b[1;32m     14\u001b[0m \u001b[39m# Step 4: Filter rows based on price\u001b[39;00m\n",
      "File \u001b[0;32m~/anaconda3/lib/python3.11/site-packages/pandas/core/frame.py:4102\u001b[0m, in \u001b[0;36mDataFrame.__getitem__\u001b[0;34m(self, key)\u001b[0m\n\u001b[1;32m   4100\u001b[0m \u001b[39mif\u001b[39;00m \u001b[39mself\u001b[39m\u001b[39m.\u001b[39mcolumns\u001b[39m.\u001b[39mnlevels \u001b[39m>\u001b[39m \u001b[39m1\u001b[39m:\n\u001b[1;32m   4101\u001b[0m     \u001b[39mreturn\u001b[39;00m \u001b[39mself\u001b[39m\u001b[39m.\u001b[39m_getitem_multilevel(key)\n\u001b[0;32m-> 4102\u001b[0m indexer \u001b[39m=\u001b[39m \u001b[39mself\u001b[39m\u001b[39m.\u001b[39mcolumns\u001b[39m.\u001b[39mget_loc(key)\n\u001b[1;32m   4103\u001b[0m \u001b[39mif\u001b[39;00m is_integer(indexer):\n\u001b[1;32m   4104\u001b[0m     indexer \u001b[39m=\u001b[39m [indexer]\n",
      "File \u001b[0;32m~/anaconda3/lib/python3.11/site-packages/pandas/core/indexes/base.py:3812\u001b[0m, in \u001b[0;36mIndex.get_loc\u001b[0;34m(self, key)\u001b[0m\n\u001b[1;32m   3807\u001b[0m     \u001b[39mif\u001b[39;00m \u001b[39misinstance\u001b[39m(casted_key, \u001b[39mslice\u001b[39m) \u001b[39mor\u001b[39;00m (\n\u001b[1;32m   3808\u001b[0m         \u001b[39misinstance\u001b[39m(casted_key, abc\u001b[39m.\u001b[39mIterable)\n\u001b[1;32m   3809\u001b[0m         \u001b[39mand\u001b[39;00m \u001b[39many\u001b[39m(\u001b[39misinstance\u001b[39m(x, \u001b[39mslice\u001b[39m) \u001b[39mfor\u001b[39;00m x \u001b[39min\u001b[39;00m casted_key)\n\u001b[1;32m   3810\u001b[0m     ):\n\u001b[1;32m   3811\u001b[0m         \u001b[39mraise\u001b[39;00m InvalidIndexError(key)\n\u001b[0;32m-> 3812\u001b[0m     \u001b[39mraise\u001b[39;00m \u001b[39mKeyError\u001b[39;00m(key) \u001b[39mfrom\u001b[39;00m \u001b[39merr\u001b[39;00m\n\u001b[1;32m   3813\u001b[0m \u001b[39mexcept\u001b[39;00m \u001b[39mTypeError\u001b[39;00m:\n\u001b[1;32m   3814\u001b[0m     \u001b[39m# If we have a listlike key, _check_indexing_error will raise\u001b[39;00m\n\u001b[1;32m   3815\u001b[0m     \u001b[39m#  InvalidIndexError. Otherwise we fall through and re-raise\u001b[39;00m\n\u001b[1;32m   3816\u001b[0m     \u001b[39m#  the TypeError.\u001b[39;00m\n\u001b[1;32m   3817\u001b[0m     \u001b[39mself\u001b[39m\u001b[39m.\u001b[39m_check_indexing_error(key)\n",
      "\u001b[0;31mKeyError\u001b[0m: 'Sugars (g)'"
     ]
    }
   ],
   "source": [
    "\n",
    "# Example usage:\n",
    "clean_taco_bell_menu(\"../data/uncleaned_taco_bell_menu_items2024-08-27.csv\")"
   ]
  },
  {
   "cell_type": "code",
   "execution_count": null,
   "metadata": {},
   "outputs": [],
   "source": []
  }
 ],
 "metadata": {
  "kernelspec": {
   "display_name": "base",
   "language": "python",
   "name": "python3"
  },
  "language_info": {
   "codemirror_mode": {
    "name": "ipython",
    "version": 3
   },
   "file_extension": ".py",
   "mimetype": "text/x-python",
   "name": "python",
   "nbconvert_exporter": "python",
   "pygments_lexer": "ipython3",
   "version": "3.11.9"
  },
  "orig_nbformat": 4
 },
 "nbformat": 4,
 "nbformat_minor": 2
}
